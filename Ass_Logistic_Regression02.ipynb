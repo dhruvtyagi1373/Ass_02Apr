{
 "cells": [
  {
   "cell_type": "markdown",
   "id": "f340d2b6-9ede-440c-8e8b-c88ef41fa420",
   "metadata": {},
   "source": [
    "## Q1. What is the purpose of grid search cv in machine learning, and how does it work?"
   ]
  },
  {
   "cell_type": "markdown",
   "id": "fafffeee-4fe0-429a-95c5-cc1f88f6704e",
   "metadata": {},
   "source": [
    "Sol : GridSearchCV is the process of performing hyperparameter tuning in order to determine the optimal values for a given model.GridSearchCV is a function that comes in Scikit-learn’s(or SK-learn) model_selection package.This function helps to loop through predefined hyperparameters and fit your estimator (model) on your training set. So, in the end, we can select the best parameters from the listed hyperparameters."
   ]
  },
  {
   "cell_type": "markdown",
   "id": "c12ccd4b-3fc8-474c-9684-019ae7798f36",
   "metadata": {},
   "source": [
    "## Q2. Describe the difference between grid search cv and randomize search cv, and when might you choose one over the other?"
   ]
  },
  {
   "cell_type": "markdown",
   "id": "d3cf36cf-2ac0-4467-8a25-1f145765c550",
   "metadata": {},
   "source": [
    "Sol : While grid search looks at every possible combination of hyperparameters to find the best model, random search only selects and tests a random combination of hyperparameters. This technique randomly samples from a grid of hyperparameters instead of conducting an exhaustive search.\n",
    "I will use Grid SearchCV when I want to find that which is the best parameter for the model from the parameters that I choose otherwise choose Randomize SearchCV."
   ]
  },
  {
   "cell_type": "markdown",
   "id": "59b73bc2-2aff-4298-820c-2f79add3bf10",
   "metadata": {},
   "source": [
    "## Q3. What is data leakage, and why is it a problem in machine learning? Provide an example."
   ]
  },
  {
   "cell_type": "markdown",
   "id": "90eb73f2-06a5-4bfd-83e1-ea81fb732781",
   "metadata": {},
   "source": [
    "Sol : Data leakage is when information from outside the training dataset is used to create the model.This additional information can allow the model to learn or know something that it otherwise would not know and in turn invalidate the estimated performance of the mode being constructed.\n",
    "Eg. it is a problem when you are developing your own predictive models. You may be creating overly optimistic models that are practically useless and cannot be used in production."
   ]
  },
  {
   "cell_type": "markdown",
   "id": "30e9d3b0-7fd4-4a69-8dcc-218548845dfb",
   "metadata": {},
   "source": [
    "## Q4. How can you prevent data leakage when building a machine learning model?"
   ]
  },
  {
   "cell_type": "markdown",
   "id": "ce9cb9d8-abe4-47f7-b1bf-0337b529ff49",
   "metadata": {},
   "source": [
    "Two good techniques that you can use to minimize data leakage when developing predictive models are as follows:\n",
    "1. Perform data preparation within your cross validation folds.\n",
    "2. Hold back a validation dataset for final sanity check of your developed models."
   ]
  },
  {
   "cell_type": "markdown",
   "id": "f0f0fa1a-7c3f-4a21-a383-f01c7029f42e",
   "metadata": {},
   "source": [
    "## Q5. What is a confusion matrix, and what does it tell you about the performance of a classification model?"
   ]
  },
  {
   "cell_type": "markdown",
   "id": "a387d48f-2671-45c4-9bd1-c052b76e81da",
   "metadata": {},
   "source": [
    "Sol : The confusion matrix is a matrix used to determine the performance of the classification models for a given set of test data.It shows the errors in the model performance in the form of a matrix, hence also known as an error matrix."
   ]
  },
  {
   "cell_type": "markdown",
   "id": "bfb703a1-7e12-41c7-a4d9-ed119895503d",
   "metadata": {},
   "source": [
    "## Q6. Explain the difference between precision and recall in the context of a confusion matrix."
   ]
  },
  {
   "cell_type": "markdown",
   "id": "bad01805-dd01-46bf-8608-8623ee9fdd4c",
   "metadata": {},
   "source": [
    "- precision: Out Of all actual values how many are correctly predicted.\n",
    "- Recall : Out of all the predicted values how many are correctly predicted with actual values"
   ]
  },
  {
   "cell_type": "markdown",
   "id": "f7a321ad-042b-49c2-a6f3-31d216c4b18c",
   "metadata": {},
   "source": [
    "## Q7. How can you interpret a confusion matrix to determine which types of errors your model is making?"
   ]
  },
  {
   "cell_type": "markdown",
   "id": "36bad38c-699e-40ae-ba7b-d0ed05d3cf2c",
   "metadata": {},
   "source": [
    "1. False Negative :  The model has predicted no, but the actual value was Yes, it is also called as Type-II error\n",
    "2. False Positive: The model has predicted Yes, but the actual value was No. It is also called a Type-I error."
   ]
  },
  {
   "cell_type": "markdown",
   "id": "eeab9055-2cf2-4546-8bd7-babe50dbaf3c",
   "metadata": {},
   "source": [
    "## Q8. What are some common metrics that can be derived from a confusion matrix, and how are they calculated?"
   ]
  },
  {
   "cell_type": "markdown",
   "id": "28466b62-e819-4cc1-b519-d7f8d698333a",
   "metadata": {},
   "source": [
    "Accuracy,Precision,Recall and F-score can be calculated using Confusion Matrix.\n",
    "* Accuracy = (TP+TN)/(TP+FP+TN+FN)\n",
    "* Precision = TP/(TP+FP)\n",
    "* Recall = (TP)/(TP+FN)\n",
    "* F-score = (2 * Recall * precision)/(Recall+precision)"
   ]
  },
  {
   "cell_type": "markdown",
   "id": "0d31cb79-d9b0-41de-b792-ac41ddf11bb6",
   "metadata": {},
   "source": [
    "## Q9. What is the relationship between the accuracy of a model and the values in its confusion matrix?"
   ]
  },
  {
   "cell_type": "markdown",
   "id": "ae6fb434-b719-43e7-b113-b1dbec657e57",
   "metadata": {},
   "source": [
    "Accuracy = (TP+TN)/(TP+FP+TN+FN)"
   ]
  },
  {
   "cell_type": "markdown",
   "id": "e12bf7d9-6fc8-419a-800c-529186b036ac",
   "metadata": {},
   "source": [
    "## Q10. How can you use a confusion matrix to identify potential biases or limitations in your machine learning model?"
   ]
  },
  {
   "cell_type": "code",
   "execution_count": null,
   "id": "524343cc-c8ba-4922-a231-126d5d2f5fa5",
   "metadata": {},
   "outputs": [],
   "source": []
  },
  {
   "cell_type": "code",
   "execution_count": null,
   "id": "2b6a4314-7ceb-47c0-8371-b3d01165627a",
   "metadata": {},
   "outputs": [],
   "source": []
  }
 ],
 "metadata": {
  "kernelspec": {
   "display_name": "Python 3 (ipykernel)",
   "language": "python",
   "name": "python3"
  },
  "language_info": {
   "codemirror_mode": {
    "name": "ipython",
    "version": 3
   },
   "file_extension": ".py",
   "mimetype": "text/x-python",
   "name": "python",
   "nbconvert_exporter": "python",
   "pygments_lexer": "ipython3",
   "version": "3.10.8"
  }
 },
 "nbformat": 4,
 "nbformat_minor": 5
}
